{
  "cells": [
    {
      "cell_type": "markdown",
      "metadata": {
        "id": "view-in-github",
        "colab_type": "text"
      },
      "source": [
        "<a href=\"https://colab.research.google.com/github/azharthegeek/01_Python_Introduction/blob/main/Room_401_Currency_Convert_Project.ipynb\" target=\"_parent\"><img src=\"https://colab.research.google.com/assets/colab-badge.svg\" alt=\"Open In Colab\"/></a>"
      ]
    },
    {
      "cell_type": "code",
      "execution_count": null,
      "metadata": {
        "id": "onRbYHsKNfpY"
      },
      "outputs": [],
      "source": [
        "def convert_currency(amount, from_currency, to_currency):\n",
        "    exchange_rates = {'USD_TO_PKR': 286, 'PKR_TO_USD': 0.0035}\n",
        "    key = f\"{from_currency}_TO_{to_currency}\"\n",
        "\n",
        "    if key in exchange_rates:\n",
        "        return amount * exchange_rates[key]\n",
        "    else:\n",
        "        return \"Exchange rate not available.\"\n",
        "\n",
        "def convert():\n",
        "  ammount = int(input(\"Enter The Ammount to Convert:\"))\n",
        "  conversion = int(input(\"Enter 1 for USD to PKR \\n2 for PKR to USD\\n:\"))\n",
        "\n",
        "  if conversion==1:\n",
        "    from_currency = \"USD\"\n",
        "    to_currency= \"PKR\"\n",
        "  elif conversion==2:\n",
        "    from_currency = \"PKR\"\n",
        "    to_currency= \"USD\"\n",
        "  converted_amount = convert_currency(ammount, from_currency, to_currency)\n",
        "  print(f\"Converted amount from {from_currency} to {to_currency}: {converted_amount} {to_currency}\")"
      ]
    },
    {
      "cell_type": "code",
      "execution_count": null,
      "metadata": {
        "colab": {
          "base_uri": "https://localhost:8080/"
        },
        "id": "k8AjBWIPNrYm",
        "outputId": "16cbf5cf-de49-43dd-ecb4-dd615b801f29"
      },
      "outputs": [
        {
          "name": "stdout",
          "output_type": "stream",
          "text": [
            "Enter The Ammount to Convert:500\n",
            "Enter 1 for USD to PKR \n",
            "2 for PKR to USD\n",
            ":1\n",
            "Converted amount from USD to PKR: 143000 PKR\n"
          ]
        }
      ],
      "source": [
        "\n",
        "convert()"
      ]
    },
    {
      "cell_type": "code",
      "execution_count": null,
      "metadata": {
        "colab": {
          "base_uri": "https://localhost:8080/"
        },
        "id": "ZApJvBRkhXoc",
        "outputId": "745270a7-b523-4af0-84e1-c43b3c96e65e"
      },
      "outputs": [
        {
          "name": "stdout",
          "output_type": "stream",
          "text": [
            "Overwriting app.py\n"
          ]
        }
      ],
      "source": [
        "%%writefile app.py\n",
        "import streamlit as st\n",
        "st.title(\"Hello World\")\n"
      ]
    },
    {
      "cell_type": "code",
      "execution_count": null,
      "metadata": {
        "id": "nRee1s-FhxLE"
      },
      "outputs": [],
      "source": []
    },
    {
      "cell_type": "code",
      "execution_count": null,
      "metadata": {
        "colab": {
          "base_uri": "https://localhost:8080/"
        },
        "id": "jS-72UqHhvWt",
        "outputId": "b6b02b13-6345-41cc-abf8-74ea8a9d679e"
      },
      "outputs": [
        {
          "name": "stdout",
          "output_type": "stream",
          "text": [
            "35.237.27.226\n",
            "[..................] / rollbackFailedOptional: verb npm-session fca14334540325e\u001b[0m\u001b[K\n",
            "Collecting usage statistics. To deactivate, set browser.gatherUsageStats to False.\n",
            "\u001b[0m\n",
            "\u001b[0m\n",
            "\u001b[34m\u001b[1m  You can now view your Streamlit app in your browser.\u001b[0m\n",
            "\u001b[0m\n",
            "\u001b[34m  Network URL: \u001b[0m\u001b[1mhttp://172.28.0.12:8501\u001b[0m\n",
            "\u001b[34m  External URL: \u001b[0m\u001b[1mhttp://35.237.27.226:8501\u001b[0m\n",
            "\u001b[0m\n",
            "\u001b[K\u001b[?25hnpx: installed 22 in 3.002s\n",
            "your url is: https://legal-nights-greet.loca.lt\n",
            "\u001b[34m  Stopping...\u001b[0m\n",
            "^C\n"
          ]
        }
      ],
      "source": [
        "! pip install streamlit -q\n",
        "!wget -q -O - ipv4.icanhazip.com\n",
        "! streamlit run app.py & npx localtunnel --port 8501"
      ]
    },
    {
      "cell_type": "code",
      "execution_count": null,
      "metadata": {
        "colab": {
          "base_uri": "https://localhost:8080/"
        },
        "id": "lvxVtVYQPdkf",
        "outputId": "01e63c4b-3b85-4982-942a-ffde6936c838"
      },
      "outputs": [
        {
          "output_type": "stream",
          "name": "stdout",
          "text": [
            "Writing app.py\n"
          ]
        }
      ],
      "source": [
        "%%writefile app.py\n",
        "import streamlit as st\n",
        "\n",
        "def convert_currency(amount, from_currency, to_currency):\n",
        "    exchange_rates = {'USD_TO_PKR': 286, 'PKR_TO_USD': 0.0035}\n",
        "    key = f\"{from_currency}_TO_{to_currency}\"\n",
        "\n",
        "    if key in exchange_rates:\n",
        "        return amount * exchange_rates[key]\n",
        "    else:\n",
        "        return \"Exchange rate not available.\"\n",
        "\n",
        "def convert(ammount, conversion):\n",
        "    if conversion == \"USD to PKR\":\n",
        "        from_currency = \"USD\"\n",
        "        to_currency = \"PKR\"\n",
        "    elif conversion == \"PKR to USD\":\n",
        "        from_currency = \"PKR\"\n",
        "        to_currency = \"USD\"\n",
        "\n",
        "    converted_amount = convert_currency(ammount, from_currency, to_currency)\n",
        "    return f\"Converted amount from {from_currency} to {to_currency}: {converted_amount} {to_currency}\"\n",
        "\n",
        "# Streamlit interface\n",
        "st.title(\"Currency Converter\")\n",
        "\n",
        "ammount = st.number_input(\"Enter the Amount to Convert:\", min_value=0)\n",
        "conversion = st.selectbox(\"Conversion Type:\", [\"USD to PKR\", \"PKR to USD\"])\n",
        "\n",
        "if st.button(\"Convert\"):\n",
        "    result = convert(ammount, conversion)\n",
        "    st.write(result)\n"
      ]
    },
    {
      "cell_type": "code",
      "execution_count": null,
      "metadata": {
        "colab": {
          "base_uri": "https://localhost:8080/"
        },
        "id": "-11mjuELPhr9",
        "outputId": "917d4f56-e00e-49ba-af48-e45e0887087b"
      },
      "outputs": [
        {
          "output_type": "stream",
          "name": "stdout",
          "text": [
            "\u001b[2K     \u001b[90m━━━━━━━━━━━━━━━━━━━━━━━━━━━━━━━━━━━━━━━━\u001b[0m \u001b[32m8.4/8.4 MB\u001b[0m \u001b[31m48.6 MB/s\u001b[0m eta \u001b[36m0:00:00\u001b[0m\n",
            "\u001b[2K     \u001b[90m━━━━━━━━━━━━━━━━━━━━━━━━━━━━━━━━━━━━━━━━\u001b[0m \u001b[32m190.6/190.6 kB\u001b[0m \u001b[31m22.4 MB/s\u001b[0m eta \u001b[36m0:00:00\u001b[0m\n",
            "\u001b[2K     \u001b[90m━━━━━━━━━━━━━━━━━━━━━━━━━━━━━━━━━━━━━━━━\u001b[0m \u001b[32m4.8/4.8 MB\u001b[0m \u001b[31m60.4 MB/s\u001b[0m eta \u001b[36m0:00:00\u001b[0m\n",
            "\u001b[2K     \u001b[90m━━━━━━━━━━━━━━━━━━━━━━━━━━━━━━━━━━━━━━━━\u001b[0m \u001b[32m82.1/82.1 kB\u001b[0m \u001b[31m10.5 MB/s\u001b[0m eta \u001b[36m0:00:00\u001b[0m\n",
            "\u001b[2K     \u001b[90m━━━━━━━━━━━━━━━━━━━━━━━━━━━━━━━━━━━━━━━━\u001b[0m \u001b[32m62.7/62.7 kB\u001b[0m \u001b[31m8.2 MB/s\u001b[0m eta \u001b[36m0:00:00\u001b[0m\n",
            "\u001b[?25h34.106.149.63\n",
            "\n",
            "Collecting usage statistics. To deactivate, set browser.gatherUsageStats to False.\n",
            "\u001b[0m\n",
            "\u001b[0m\n",
            "\u001b[34m\u001b[1m  You can now view your Streamlit app in your browser.\u001b[0m\n",
            "\u001b[0m\n",
            "\u001b[34m  Network URL: \u001b[0m\u001b[1mhttp://172.28.0.12:8501\u001b[0m\n",
            "\u001b[34m  External URL: \u001b[0m\u001b[1mhttp://34.106.149.63:8501\u001b[0m\n",
            "\u001b[0m\n",
            "\u001b[K\u001b[?25hnpx: installed 22 in 3.99s\n",
            "your url is: https://vast-cobras-attack.loca.lt\n",
            "\u001b[34m  Stopping...\u001b[0m\n",
            "^C\n"
          ]
        }
      ],
      "source": [
        "! pip install streamlit -q\n",
        "!wget -q -O - ipv4.icanhazip.com\n",
        "! streamlit run app.py & npx localtunnel --port 8501"
      ]
    },
    {
      "cell_type": "code",
      "execution_count": null,
      "metadata": {
        "id": "rlMz9bRgOpCv"
      },
      "outputs": [],
      "source": [
        "!pip install qrcode"
      ]
    },
    {
      "cell_type": "code",
      "execution_count": null,
      "metadata": {
        "colab": {
          "base_uri": "https://localhost:8080/",
          "height": 347
        },
        "id": "X9qaiH-CPQyP",
        "outputId": "180492ac-b525-4a8f-9dc6-8a1cae55bd95"
      },
      "outputs": [
        {
          "data": {
            "image/png": "[encoded data removed]",
            "text/plain": [
              "<qrcode.image.pil.PilImage at 0x7884d9a91120>"
            ]
          },
          "metadata": {},
          "output_type": "display_data"
        }
      ],
      "source": [
        "import qrcode\n",
        "img = qrcode.make(\"https://techshoor.com/\")\n",
        "img.save(\"azhar.png\")\n",
        "display(img)"
      ]
    },
    {
      "cell_type": "code",
      "execution_count": null,
      "metadata": {
        "id": "BB8YNab2Nt50"
      },
      "outputs": [],
      "source": [
        "import qrcode\n",
        "from PIL import Image\n",
        "qr = qrcode.QRCode(version=1,\n",
        "                   error_correction=qrcode.constants.ERROR_CORRECT_H,\n",
        "                   box_size=10,\n",
        "                   border=4)\n",
        "\n",
        "qr.add_data(\"https://techshoor.com/\")\n",
        "qr.make(fit=True)\n",
        "\n",
        "img = qr.make_image(fill_color= \"red\", back_color= \"blue\")\n",
        "img.save(\"iobm.png\")\n",
        "display(img)"
      ]
    },
    {
      "cell_type": "code",
      "execution_count": null,
      "metadata": {
        "colab": {
          "base_uri": "https://localhost:8080/"
        },
        "id": "vpWIoLC2OnjG",
        "outputId": "a0fc55ff-7a03-40bb-fb06-3a704587dbae"
      },
      "outputs": [
        {
          "name": "stdout",
          "output_type": "stream",
          "text": [
            "Overwriting app.py\n"
          ]
        }
      ],
      "source": [
        "%%writefile app.py\n",
        "\n",
        "import streamlit as st\n",
        "import qrcode\n",
        "from PIL import Image\n",
        "import io\n",
        "import base64\n",
        "\n",
        "def generate_qr_code(url):\n",
        "    qr = qrcode.QRCode(\n",
        "        version=1,\n",
        "        error_correction=qrcode.constants.ERROR_CORRECT_H,\n",
        "        box_size=10,\n",
        "        border=4\n",
        "    )\n",
        "    qr.add_data(url)\n",
        "    qr.make(fit=True)\n",
        "\n",
        "    img = qr.make_image(fill_color=\"red\", back_color=\"blue\")\n",
        "    return img\n",
        "\n",
        "def main():\n",
        "    st.title(\"QR Code Generator\")\n",
        "\n",
        "    # Input for the URL\n",
        "    url = st.text_input(\"Enter the URL to generate its QR Code\")\n",
        "\n",
        "    # Check if the URL is provided\n",
        "    if url:\n",
        "        # Generate QR code\n",
        "        qr_image = generate_qr_code(url)\n",
        "\n",
        "        # Convert the PIL Image to bytes\n",
        "        img_bytes = io.BytesIO()\n",
        "        qr_image.save(img_bytes, format=\"PNG\")\n",
        "        img_bytes = img_bytes.getvalue()\n",
        "\n",
        "        # Display the QR code\n",
        "        st.image(img_bytes, caption=\"Generated QR Code\", use_column_width=True, output_format=\"PNG\")\n",
        "\n",
        "        # Save the QR code as a file\n",
        "        st.markdown(\"### Download QR Code\")\n",
        "        st.markdown(f\"Click [here](data:image/png;base64,{base64.b64encode(img_bytes).decode()}) to download the QR code.\")\n",
        "\n",
        "main()\n"
      ]
    },
    {
      "cell_type": "code",
      "execution_count": null,
      "metadata": {
        "colab": {
          "base_uri": "https://localhost:8080/"
        },
        "id": "sNglyFtVPLLn",
        "outputId": "7e8a5eaf-abc8-4deb-edd1-9e75b796ec09"
      },
      "outputs": [
        {
          "name": "stdout",
          "output_type": "stream",
          "text": [
            "Requirement already satisfied: qrcode in /usr/local/lib/python3.10/dist-packages (7.4.2)\n",
            "Requirement already satisfied: typing-extensions in /usr/local/lib/python3.10/dist-packages (from qrcode) (4.5.0)\n",
            "Requirement already satisfied: pypng in /usr/local/lib/python3.10/dist-packages (from qrcode) (0.20220715.0)\n",
            "35.237.27.226\n",
            "[..................] / rollbackFailedOptional: verb npm-session dfa1e3498fe4ba1\u001b[0m\u001b[K\n",
            "Collecting usage statistics. To deactivate, set browser.gatherUsageStats to False.\n",
            "\u001b[0m\n",
            "\u001b[0m\n",
            "\u001b[34m\u001b[1m  You can now view your Streamlit app in your browser.\u001b[0m\n",
            "\u001b[0m\n",
            "\u001b[34m  Network URL: \u001b[0m\u001b[1mhttp://172.28.0.12:8501\u001b[0m\n",
            "\u001b[34m  External URL: \u001b[0m\u001b[1mhttp://35.237.27.226:8501\u001b[0m\n",
            "\u001b[0m\n",
            "\u001b[K\u001b[?25hnpx: installed 22 in 4.044s\n",
            "your url is: https://red-teeth-deny.loca.lt\n",
            "\u001b[34m  Stopping...\u001b[0m\n",
            "^C\n"
          ]
        }
      ],
      "source": [
        "! pip install streamlit -q\n",
        "!pip install qrcode\n",
        "!wget -q -O - ipv4.icanhazip.com\n",
        "! streamlit run app.py & npx localtunnel --port 8501"
      ]
    },
    {
      "cell_type": "code",
      "execution_count": null,
      "metadata": {
        "colab": {
          "base_uri": "https://localhost:8080/"
        },
        "id": "gj2ihOJlkXWW",
        "outputId": "ff9443a0-7b25-4d7f-c756-b398df8646d6"
      },
      "outputs": [
        {
          "name": "stdout",
          "output_type": "stream",
          "text": [
            "Overwriting app.py\n"
          ]
        }
      ],
      "source": [
        "%%writefile app.py\n",
        "import streamlit as st\n",
        "\n",
        "# Header\n",
        "st.title(\"Muhammad Azhar - AI Engineer\")\n",
        "\n",
        "# Personal Information\n",
        "st.header(\"Personal Information\")\n",
        "st.write(\"Name: Muhammad Azhar\")\n",
        "st.write(\"Title: AI Engineer\")\n",
        "st.write(\"Email: your@email.com\")\n",
        "st.write(\"LinkedIn: [LinkedIn Profile](https://www.linkedin.com/in/your-linkedin-profile)\")\n",
        "\n",
        "# Summary\n",
        "st.header(\"Summary\")\n",
        "st.write(\n",
        "    \"I am Muhammad Azhar, an AI Engineer with a strong passion for developing advanced applications \"\n",
        "    \"and solving complex problems in the field of Artificial Intelligence. I have honed my skills in Artificial \"\n",
        "    \"Intelligence through the prestigious Presidential Initiative for Artificial Intelligence & Computing (PIAIC), \"\n",
        "    \"where I earned the title of AI Developer. Additionally, I hold 24 certifications and training in Python, Deep Learning, \"\n",
        "    \"Machine Learning, and cloud platforms like Azure and AWS.\"\n",
        ")\n",
        "\n",
        "# Projects\n",
        "st.header(\"Projects\")\n",
        "\n",
        "# Project 1: TechShoor Agri\n",
        "st.subheader(\"TechShoor Agri\")\n",
        "st.write(\n",
        "    \"TechShoor Agri is an innovative platform that utilizes satellite imagery and deep learning to optimize agricultural techniques, \"\n",
        "    \"benefiting farmers with valuable land reports. I took a lead role in this project, overseeing architecture design, data collection, \"\n",
        "    \"model training, API development, Docker implementation, and Azure deployment.\"\n",
        ")\n",
        "\n",
        "# Project 2: Fracture Abnormality Detection MURA\n",
        "st.subheader(\"Fracture Abnormality Detection MURA\")\n",
        "st.write(\n",
        "    \"Fracture Abnormality Detection MURA aimed to improve medical imaging technologies and healthcare access. By training models on musculoskeletal \"\n",
        "    \"radiographs using TensorFlow and PyTorch, I achieved outstanding accuracy and deployed them via Azure VM with nginx for doctors' use.\"\n",
        ")\n",
        "\n",
        "# Additional Projects\n",
        "st.subheader(\"Additional Projects\")\n",
        "st.write(\n",
        "    \"I have also undertaken projects focusing on semantic analysis using NLTK and Sklearn for Roman Urdu product reviews and developed a \"\n",
        "    \"WhatsApp Automation Message Sender, among other projects.\"\n",
        ")\n",
        "\n",
        "# Community Contributions\n",
        "st.header(\"Community Contributions\")\n",
        "st.write(\n",
        "    \"Beyond my technical skills, I am dedicated to nurturing a thriving community of learners in the AI field. Through my engaging tutorials and \"\n",
        "    \"training sessions on YouTube and Zoom, as well as my website providing free access to live chat and recorded lectures, I aim to empower \"\n",
        "    \"individuals with the knowledge and tools to succeed in AI.\"\n",
        ")\n",
        "\n",
        "# Closing Statement\n",
        "st.header(\"Closing Statement\")\n",
        "st.write(\n",
        "    \"With a wealth of knowledge and experience in AI, combined with my drive to make a lasting impact, I am confident that I can contribute \"\n",
        "    \"significantly to the field and be an asset to any organization seeking innovation and excellence in Artificial Intelligence.\"\n",
        ")\n"
      ]
    },
    {
      "cell_type": "code",
      "execution_count": null,
      "metadata": {
        "colab": {
          "background_save": true,
          "base_uri": "https://localhost:8080/"
        },
        "id": "WonzsPVHqrxO",
        "outputId": "81f4e27c-a9ae-4e06-cc57-66d867ebedfc"
      },
      "outputs": [
        {
          "name": "stdout",
          "output_type": "stream",
          "text": [
            "Requirement already satisfied: qrcode in /usr/local/lib/python3.10/dist-packages (7.4.2)\n",
            "Requirement already satisfied: typing-extensions in /usr/local/lib/python3.10/dist-packages (from qrcode) (4.5.0)\n",
            "Requirement already satisfied: pypng in /usr/local/lib/python3.10/dist-packages (from qrcode) (0.20220715.0)\n",
            "35.237.27.226\n",
            "[..................] | fetchMetadata: sill resolveWithNewModule localtunnel@2.0\u001b[0m\u001b[K\n",
            "Collecting usage statistics. To deactivate, set browser.gatherUsageStats to False.\n",
            "\u001b[0m\n",
            "\u001b[0m\n",
            "\u001b[34m\u001b[1m  You can now view your Streamlit app in your browser.\u001b[0m\n",
            "\u001b[0m\n",
            "\u001b[34m  Network URL: \u001b[0m\u001b[1mhttp://172.28.0.12:8501\u001b[0m\n",
            "\u001b[34m  External URL: \u001b[0m\u001b[1mhttp://35.237.27.226:8501\u001b[0m\n",
            "\u001b[0m\n",
            "\u001b[K\u001b[?25hnpx: installed 22 in 3.648s\n",
            "your url is: https://huge-readers-play.loca.lt\n"
          ]
        }
      ],
      "source": [
        "! pip install streamlit -q\n",
        "!pip install qrcode\n",
        "!wget -q -O - ipv4.icanhazip.com\n",
        "! streamlit run app.py & npx localtunnel --port 8501"
      ]
    },
    {
      "cell_type": "code",
      "execution_count": null,
      "metadata": {
        "id": "Qqp0tFOQquIV"
      },
      "outputs": [],
      "source": []
    }
  ],
  "metadata": {
    "colab": {
      "provenance": [],
      "authorship_tag": "ABX9TyME16rQoMY5NCPrW0goxckn",
      "include_colab_link": true
    },
    "kernelspec": {
      "display_name": "Python 3",
      "name": "python3"
    },
    "language_info": {
      "name": "python"
    }
  },
  "nbformat": 4,
  "nbformat_minor": 0
}