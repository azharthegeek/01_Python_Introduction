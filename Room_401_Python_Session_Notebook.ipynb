{
  "cells": [
    {
      "cell_type": "markdown",
      "metadata": {
        "id": "view-in-github",
        "colab_type": "text"
      },
      "source": [
        "<a href=\"https://colab.research.google.com/github/azharthegeek/01_Python_Introduction/blob/main/Room_401_Python_Session_Notebook.ipynb\" target=\"_parent\"><img src=\"https://colab.research.google.com/assets/colab-badge.svg\" alt=\"Open In Colab\"/></a>"
      ]
    },
    {
      "cell_type": "markdown",
      "metadata": {
        "id": "ei-GOj0Gu-9S"
      },
      "source": [
        "#Introduction to Colab for the classroom\n",
        "\n",
        "This is an \"Google Colab\" notebook. It's a shared document where everybody can see and make changes to the same document.\n",
        "\n",
        "The first few problems will get us acquainted with working together;\n",
        "\n",
        "1.Go to file in the upper left corner\n",
        "\n",
        "2.Click Save copy in drive\n",
        "\n",
        "3.Follow along and use your own notebook!"
      ]
    },
    {
      "cell_type": "code",
      "execution_count": null,
      "metadata": {
        "id": "1D9tQyRbuQwg"
      },
      "outputs": [],
      "source": [
        "# This is a comment\n",
        "# in a code cell\n",
        "# Press shift + enter to execute a cell\n",
        "# Nothing will print from this cell since these are all comments"
      ]
    },
    {
      "cell_type": "markdown",
      "metadata": {
        "id": "-TjZmYl523lH"
      },
      "source": [
        "# **What is Python?**\n",
        "\n",
        "Python is an open-source object-oriented programming language. It first\n",
        "appeared in 1991 and has become extremely popular among data scientists. StackOverflow calls it as the fastest growing programming language.\n",
        "\n",
        "It is used for:\n",
        "\n",
        "*   Web development\n",
        "*   Software Development\n",
        "*   Mathematics\n",
        "*   System Scripting and Much more\n",
        "\n",
        "\n",
        "# **What Python can do?**\n",
        "\n",
        "*   Python can be used on a server to create web applications.\n",
        "*   Python can be used alongside software to create workflows.\n",
        "*   Python can connect to database systems. It can also read and modify files.\n",
        "*   Python can be used to handle big data and perform complex mathematics.\n",
        "*   Python can be used for rapid prototyping, or for production-ready software development."
      ]
    },
    {
      "cell_type": "markdown",
      "metadata": {
        "id": "Jj2dwPJGxZDy"
      },
      "source": [
        "# Why Learn Python?\n",
        "Python’s syntax is very simple hence it's easy for the beginners to understand. The lines of code required for a task is less compared to other languages.\n",
        "\n",
        "\n",
        "*  Python works on different platforms (Windows, Mac, Linux, Raspberry Pi, etc).\n",
        "* Python has a simple syntax similar to the English language.\n",
        "* Python has syntax that allows developers to write programs with fewer lines than some other programming languages.\n",
        "*  Python runs on an interpreter system, meaning that code can be executed as soon as it is written. This means that prototyping can be very quick.\n",
        "*  Python can be treated in a procedural way, an object-orientated way or a functional way."
      ]
    },
    {
      "cell_type": "markdown",
      "metadata": {
        "id": "XnoczNYXz1TI"
      },
      "source": [
        "# **Let’s look at some cool features of Python:**\n",
        "\n",
        "1.   Simple and easy to learn\n",
        "2.   Free and Open Source\n",
        "3.   Portable\n",
        "4.   Supports different programming paradigm\n",
        "5.   Extensible"
      ]
    },
    {
      "cell_type": "markdown",
      "metadata": {
        "id": "tjwVKXvB0VKw"
      },
      "source": [
        "# **Python Applications:**\n",
        "​\n",
        "1.    Artificial Intelligence\n",
        "2.    Desktop Application\n",
        "3.    Automation\n",
        "4.    Web Development\n",
        "5.    Data Wrangling, Exploration\n",
        "6.    Visualization"
      ]
    },
    {
      "cell_type": "markdown",
      "metadata": {
        "id": "huR1RLMp1FgR"
      },
      "source": [
        "# **Python Setup:**\n",
        "\n",
        "For Windows PC, search in the start bar for Python or run the following on the Command Line (cmd.exe):\n",
        "\n",
        "```\n",
        "C:\\Users\\Your Name>python --version\n",
        "```\n",
        "\n",
        "To check if you have python installed on a Linux or Mac, then on linux open the command line or on Mac open the Terminal and type:\n",
        "\n",
        "```\n",
        "python --version\n",
        "```\n",
        "\n",
        "\n",
        "---\n",
        "\n",
        "\n",
        "*   If you are on Windows OS download Python by [clicking here](https://www.python.org/downloads/windows/) and now install from the setup and in the start menu type IDLE.IDLE, you can think it as an Python’s IDE to run the Python Scripts.\n",
        "*  If you are on Linux/Unix-like just open the terminal and on 99% linux OS Python comes preinstalled with the OS.Just type ‘python3’ in terminal and you are ready to go.\n"
      ]
    },
    {
      "cell_type": "markdown",
      "metadata": {
        "id": "cc1FDi8M26vh"
      },
      "source": [
        "# **Starting with Python**\n",
        "\n",
        "Python is an interpreted programming language, this means that as a developer you write Python (.py) files in a text editor and then put those files into the python interpreter to be executed.\n",
        "\n",
        "The way to run a python file is like this on the command line:\n",
        "\n",
        "\n",
        "\n",
        "```\n",
        "C:\\Users\\Your Name>python helloworld.py\n",
        "```\n",
        "Where \"helloworld.py\" is the name of your python file.\n",
        "\n",
        "Let's write our first Python file, called helloworld.py, which can be done in any text editor.\n",
        "\n",
        "\n",
        "helloworld.py\n",
        "```\n",
        "print(\"Hello, World! :) \")\n",
        "```\n",
        "Simple as that. Save your file. Open your command line, navigate to the directory where you saved your file, and run:\n",
        "\n",
        "```\n",
        "C:\\Users\\Your Name>python helloworld.py\n",
        "```\n",
        "\n",
        "The output should read:\n",
        "\n",
        "\n",
        "\n",
        "```\n",
        "Hello, World! :)\n",
        "```\n",
        "\n"
      ]
    },
    {
      "cell_type": "markdown",
      "metadata": {
        "id": "qViu26SV6-TK"
      },
      "source": [
        "# **Python Syntax & Indentation**\n",
        "\n",
        "Python syntax can be executed by writing directly in the Command Line:\n",
        "\n",
        "\n",
        "\n",
        "```\n",
        ">>> print(\"Hello, World! :)\")\n",
        "Hello, World! :)\n",
        "```\n",
        "\n",
        "Or by creating a python file on the server, using the .py file extension, and running it in the Command Line:\n",
        "\n",
        "```\n",
        "C:\\Users\\Your Name>python myfile.py\n",
        "```\n",
        "\n",
        "\n",
        "**Python Indentation**\n",
        "\n",
        "\n",
        "Indentation refers to the spaces at the beginning of a code line.\n",
        "\n",
        "Where in other programming languages the indentation in code is for readability only, the indentation in Python is very important.\n",
        "\n",
        "Python uses indentation to indicate a block of code.\n",
        "\n",
        "Example :\n",
        "\n"
      ]
    },
    {
      "cell_type": "code",
      "execution_count": null,
      "metadata": {
        "colab": {
          "base_uri": "https://localhost:8080/",
          "height": 142
        },
        "id": "eR0pjRyn7Tta",
        "outputId": "2b605dd9-66fe-41e3-c085-a20ffd4dbe4c"
      },
      "outputs": [
        {
          "output_type": "error",
          "ename": "IndentationError",
          "evalue": "ignored",
          "traceback": [
            "\u001b[0;36m  File \u001b[0;32m\"<ipython-input-2-a314491c53bb>\"\u001b[0;36m, line \u001b[0;32m2\u001b[0m\n\u001b[0;31m    print(\"Five is greater than two!\")\u001b[0m\n\u001b[0m    ^\u001b[0m\n\u001b[0;31mIndentationError\u001b[0m\u001b[0;31m:\u001b[0m expected an indented block after 'if' statement on line 1\n"
          ]
        }
      ],
      "source": [
        "if 5 > 2:\n",
        "print(\"Five is greater than two!\")"
      ]
    },
    {
      "cell_type": "markdown",
      "metadata": {
        "id": "k0xS4nZX9Y04"
      },
      "source": [
        "The number of spaces is up to you as a programmer, but it has to be at least one."
      ]
    },
    {
      "cell_type": "code",
      "execution_count": null,
      "metadata": {
        "colab": {
          "base_uri": "https://localhost:8080/"
        },
        "id": "Zq9-XLgz9cZ_",
        "outputId": "684b6456-c128-4bdd-f7f9-411f9fab5105"
      },
      "outputs": [
        {
          "output_type": "stream",
          "name": "stdout",
          "text": [
            "Ten is greater than Five!\n",
            "Ten is greater than Five!\n",
            "Ten is greater than Five!\n"
          ]
        }
      ],
      "source": [
        "if 10 > 5:\n",
        " print(\"Ten is greater than Five!\")\n",
        "if 10 > 5:\n",
        "        print(\"Ten is greater than Five!\")\n",
        "        print(\"Ten is greater than Five!\")"
      ]
    },
    {
      "cell_type": "markdown",
      "metadata": {
        "id": "btd_GvHt9upn"
      },
      "source": [
        "# **Comments:**\n",
        "\n",
        "Python has commenting capability for the purpose of in-code documentation.\n",
        "\n",
        "Comments start with a #, and Python will render the rest of the line as a comment:"
      ]
    },
    {
      "cell_type": "code",
      "execution_count": null,
      "metadata": {
        "colab": {
          "base_uri": "https://localhost:8080/"
        },
        "id": "a_YeED9D9x6s",
        "outputId": "e3ad0837-2529-4d77-a533-01d06795d46f"
      },
      "outputs": [
        {
          "output_type": "stream",
          "name": "stdout",
          "text": [
            "Yoooo!\n"
          ]
        }
      ],
      "source": [
        "#This is a comment, this line will not execute.\n",
        "print(\"Yoooo!\")"
      ]
    },
    {
      "cell_type": "markdown",
      "metadata": {
        "id": "pft3WfTe-LUe"
      },
      "source": [
        "*   Comments can be used to explain Python code.\n",
        "\n",
        "*   Comments can be used to make the code more readable.\n",
        "*   Comments can be used to prevent execution when testing code."
      ]
    },
    {
      "cell_type": "markdown",
      "metadata": {
        "id": "wNrzNU5mC4W0"
      },
      "source": [
        "**Multi Line Comments**\n",
        "\n",
        "You can add a multiline string (triple quotes) in your code, and place your comment inside it:"
      ]
    },
    {
      "cell_type": "code",
      "execution_count": null,
      "metadata": {
        "colab": {
          "base_uri": "https://localhost:8080/"
        },
        "id": "fOW3Pgt5-fc8",
        "outputId": "f71ca8a6-d443-4cf2-c93f-35d0315873f6"
      },
      "outputs": [
        {
          "output_type": "stream",
          "name": "stdout",
          "text": [
            "Hello, World! :)\n"
          ]
        }
      ],
      "source": [
        "\"\"\"\n",
        "This is a comment\n",
        "written in\n",
        "more than just one line\n",
        "\"\"\"\n",
        "print(\"Hello, World! :)\")"
      ]
    },
    {
      "cell_type": "markdown",
      "metadata": {
        "id": "MiCtOU0F-uLN"
      },
      "source": [
        "# **Variables in Python:**\n",
        "\n",
        "Variables are nothing but reserved memory locations to store values. This means that when you create a variable you reserve some space in memory.\n",
        "\n",
        "In Python you don’t need to declare variables before using it, unlike other languages like Java, C etc.\n",
        "\n",
        "# **Assigning values to a variable:**\n",
        "\n",
        "Python variables do not need explicit declaration to reserve memory space. The declaration happens automatically when you assign a value to a variable.\n",
        "The equal sign (=) is used to assign values to variables."
      ]
    },
    {
      "cell_type": "code",
      "execution_count": null,
      "metadata": {
        "colab": {
          "base_uri": "https://localhost:8080/"
        },
        "id": "WOgTcEk2_J21",
        "outputId": "aa7bbecb-5bab-49c8-b579-3ceadfe5464e"
      },
      "outputs": [
        {
          "output_type": "stream",
          "name": "stdout",
          "text": [
            "11\n",
            "Google\n"
          ]
        }
      ],
      "source": [
        "x = 11\n",
        "y = \"Google\"\n",
        "print(x)\n",
        "print(y)"
      ]
    },
    {
      "cell_type": "markdown",
      "metadata": {
        "id": "1RlM5twW_VQB"
      },
      "source": [
        "Variables do not need to be declared with any particular type and can even change type after they have been set."
      ]
    },
    {
      "cell_type": "code",
      "execution_count": null,
      "metadata": {
        "colab": {
          "base_uri": "https://localhost:8080/"
        },
        "id": "fo-8MR7q_b-o",
        "outputId": "7a09cbc0-0047-49f3-d266-4ba2fb7d141b"
      },
      "outputs": [
        {
          "output_type": "stream",
          "name": "stdout",
          "text": [
            "Frost forbite\n"
          ]
        }
      ],
      "source": [
        "x = 4 # x is of type int\n",
        "x = \"Frost forbite\" # x is now of type str\n",
        "print(x)"
      ]
    },
    {
      "cell_type": "markdown",
      "metadata": {
        "id": "N09PcvZvFPt9"
      },
      "source": [
        "String variables can be declared either by using single or double quotes:"
      ]
    },
    {
      "cell_type": "code",
      "execution_count": null,
      "metadata": {
        "id": "CGG7Pza5FQzg"
      },
      "outputs": [],
      "source": [
        "x = \"Marcus Burns\"\n",
        "# is the same as\n",
        "x = 'Marcus Burns'"
      ]
    },
    {
      "cell_type": "markdown",
      "metadata": {
        "id": "_SR0saT9KvwE"
      },
      "source": [
        "# **Assign Value to Multiple Variables:**\n",
        "\n",
        "Python allows you to assign values to multiple variables in one line:"
      ]
    },
    {
      "cell_type": "code",
      "execution_count": null,
      "metadata": {
        "colab": {
          "base_uri": "https://localhost:8080/"
        },
        "id": "tTsMoY7MK1wx",
        "outputId": "d43eb065-e982-476e-b157-fab7ab1174c3"
      },
      "outputs": [
        {
          "output_type": "stream",
          "name": "stdout",
          "text": [
            "Apples\n",
            "Grapes\n",
            "Mangoes\n"
          ]
        }
      ],
      "source": [
        "x, y, z = \"Apples\", \"Grapes\", \"Mangoes\"\n",
        "print(x)\n",
        "print(y)\n",
        "print(z)"
      ]
    },
    {
      "cell_type": "markdown",
      "metadata": {
        "id": "TyJ-roCOK9zT"
      },
      "source": [
        "And you can assign the same value to multiple variables in one line:"
      ]
    },
    {
      "cell_type": "code",
      "execution_count": null,
      "metadata": {
        "colab": {
          "base_uri": "https://localhost:8080/"
        },
        "id": "AC-SxzcVK_6J",
        "outputId": "76865c88-75e5-489d-f645-2a0f7f4cbebd"
      },
      "outputs": [
        {
          "output_type": "stream",
          "name": "stdout",
          "text": [
            "Kiwi\n",
            "Kiwi\n",
            "Kiwi\n"
          ]
        }
      ],
      "source": [
        "x = y = z = \"Kiwi\"\n",
        "print(x)\n",
        "print(y)\n",
        "print(z)"
      ]
    },
    {
      "cell_type": "markdown",
      "metadata": {
        "id": "CiqSG-_tLQDR"
      },
      "source": [
        "# **Assign Value to Multiple Variables:**\n",
        "\n",
        "The Python print statement is often used to output variables.\n",
        "\n",
        "To combine both text and a variable, Python uses the + character:"
      ]
    },
    {
      "cell_type": "code",
      "execution_count": null,
      "metadata": {
        "colab": {
          "base_uri": "https://localhost:8080/"
        },
        "id": "ULO5y2EOLS8J",
        "outputId": "b8f586bf-beac-421d-b471-eec46cb96d41"
      },
      "outputs": [
        {
          "output_type": "stream",
          "name": "stdout",
          "text": [
            "You are amazing!\n"
          ]
        }
      ],
      "source": [
        "x = \"amazing!\"\n",
        "print(\"You are \" + x)"
      ]
    },
    {
      "cell_type": "markdown",
      "metadata": {
        "id": "FzVHp-HhORrv"
      },
      "source": [
        "You can also use the + character to add a variable to another variable:"
      ]
    },
    {
      "cell_type": "code",
      "execution_count": null,
      "metadata": {
        "colab": {
          "base_uri": "https://localhost:8080/"
        },
        "id": "MnHDOMNzOVWd",
        "outputId": "30fc91c0-7035-41ac-bd95-dcddcf4f6f6c"
      },
      "outputs": [
        {
          "output_type": "stream",
          "name": "stdout",
          "text": [
            "You're awesome!\n"
          ]
        }
      ],
      "source": [
        "x = \"You're \"\n",
        "y = \"awesome!\"\n",
        "z =  x + y\n",
        "print(z)"
      ]
    },
    {
      "cell_type": "markdown",
      "metadata": {
        "id": "aMb4ewOgOb8I"
      },
      "source": [
        "\n",
        "\n",
        "For numbers, the + character works as a mathematical operator:\n"
      ]
    },
    {
      "cell_type": "code",
      "execution_count": null,
      "metadata": {
        "colab": {
          "base_uri": "https://localhost:8080/"
        },
        "id": "u6MSflGbOhOw",
        "outputId": "1ade99e3-2189-4572-8a5f-14f6524032a0"
      },
      "outputs": [
        {
          "output_type": "stream",
          "name": "stdout",
          "text": [
            "30\n"
          ]
        }
      ],
      "source": [
        "x = 20\n",
        "y = 10\n",
        "print(x + y)"
      ]
    },
    {
      "cell_type": "markdown",
      "metadata": {
        "id": "pULZk2i3OpH8"
      },
      "source": [
        "# **Data Types in Python:**\n",
        "Python supports various data types, these data types defines the operations possible on the variables and the storage method.\n",
        "\n",
        "\n",
        "* Text Type:\t`str`\n",
        "* Numeric Types:\t`int, float, complex`\n",
        "* Sequence Types:\t`list, tuple, range`\n",
        "* Mapping Type:\t`dict`\n",
        "* Set Types:\t`set, frozenset`\n",
        "* Boolean Type:\t`bool`\n",
        "* Binary Types:\t`bytes, bytearray, memoryview`"
      ]
    },
    {
      "cell_type": "markdown",
      "metadata": {
        "id": "QVlmz3KzOvEv"
      },
      "source": [
        "# **Getting the Data Type:**\n",
        "\n",
        "You can get the data type of any object by using the type() function:"
      ]
    },
    {
      "cell_type": "code",
      "execution_count": null,
      "metadata": {
        "colab": {
          "base_uri": "https://localhost:8080/"
        },
        "id": "ZN5P37qLOwYW",
        "outputId": "cf0fd793-3f3a-433a-bf12-c787694a8ed1"
      },
      "outputs": [
        {
          "output_type": "stream",
          "name": "stdout",
          "text": [
            "<class 'int'>\n"
          ]
        }
      ],
      "source": [
        "x = 5\n",
        "print(type(x))"
      ]
    },
    {
      "cell_type": "markdown",
      "metadata": {
        "id": "JmJ0drEEO7Sp"
      },
      "source": [
        "**Numeric:**\n",
        "\n",
        "Just as expected Numeric data types store numeric values. They are immutable data types, this means that you cannot change it’s value. Python supports three different Numeric data types:\n",
        "\n",
        "1. Integer type: It holds all the integer values i.e. all the positive and negative whole numbers, example – 10.\n",
        "\n",
        "2. Float type: It holds the real numbers and are represented by decimal and sometimes even scientific notations with E or e indicating the power of 10 (2.5e2 = 2.5 x 102 = 250), example – 10.24.\n",
        "\n",
        "3. Complex type: These are of the form a + bj, where a and b are floats and J represents the square root of -1 (which is an imaginary number), example – 10+6j.\n",
        "\n",
        "Now you can even perform type conversion. For example, you can convert the integer value to a float value and vice-versa."
      ]
    },
    {
      "cell_type": "code",
      "execution_count": null,
      "metadata": {
        "colab": {
          "base_uri": "https://localhost:8080/"
        },
        "id": "860P3--YPFvM",
        "outputId": "82f516b9-7545-4646-d0b1-c96eda34366a"
      },
      "outputs": [
        {
          "output_type": "stream",
          "name": "stdout",
          "text": [
            "<class 'int'>\n",
            "<class 'float'>\n",
            "<class 'complex'>\n"
          ]
        }
      ],
      "source": [
        "x = 11    # int\n",
        "y = 2.8  # float\n",
        "z = 3+1j   # complex\n",
        "\n",
        "print(type(x))\n",
        "print(type(y))\n",
        "print(type(z))"
      ]
    },
    {
      "cell_type": "markdown",
      "metadata": {
        "id": "tMCB-d5SPPcz"
      },
      "source": [
        "**Type Conversion**\n",
        "\n",
        "You can convert from one type to another with the int(), float(), and complex() methods:"
      ]
    },
    {
      "cell_type": "code",
      "execution_count": null,
      "metadata": {
        "colab": {
          "base_uri": "https://localhost:8080/"
        },
        "id": "7SPYqyfwPQoj",
        "outputId": "3ef6d1e9-a7bb-468e-f8d3-0c91c3a17d13"
      },
      "outputs": [
        {
          "output_type": "stream",
          "name": "stdout",
          "text": [
            "101.0\n"
          ]
        }
      ],
      "source": [
        "a = 101\n",
        "# Convert it into float type\n",
        "b = float(a)\n",
        "print(b)"
      ]
    },
    {
      "cell_type": "code",
      "execution_count": null,
      "metadata": {
        "colab": {
          "base_uri": "https://localhost:8080/"
        },
        "id": "jLEAczK2Pf3_",
        "outputId": "082bfa45-772f-40c6-d010-e07822ae0a8e"
      },
      "outputs": [
        {
          "output_type": "stream",
          "name": "stdout",
          "text": [
            "8\n"
          ]
        }
      ],
      "source": [
        "a = 8.16\n",
        "# Convert it into int type\n",
        "b = int(a)\n",
        "print(b)"
      ]
    },
    {
      "cell_type": "markdown",
      "metadata": {
        "id": "uevK81TSPqiU"
      },
      "source": [
        "**Strings:**\n",
        "\n",
        "Strings are amongst the most popular data types in Python. We can create them simply by enclosing characters in quotes. Python treats single and double quotes in exactly the same fashion."
      ]
    },
    {
      "cell_type": "markdown",
      "metadata": {
        "id": "PFRQnE8vPswE"
      },
      "source": [
        "**String Methods**\n",
        "\n",
        "Python has a set of built-in methods that you can use on strings.\n",
        "\n",
        "* capitalize() : Converts the first character to upper case\n",
        "* casefold() :\tConverts string into lower case\n",
        "* count() :\tReturns the number of times a specified value occurs in a string\n",
        "* encode()\t: Returns an encoded version of the string\n",
        "* find() :\tSearches the string for a specified value and returns the position of where it was found\n",
        "* format() :\tFormats specified values in a string\n",
        "* index()\t: Searches the string for a specified value and returns the position of where it was found\n",
        "* isdecimal() :\tReturns True if all characters in the string are decimals\n",
        "* isdigit() :\tReturns True if all characters in the string are digits\n",
        "* isidentifier() :\tReturns True if the string is an identifier\n",
        "* islower()\t: Returns True if all characters in the string are lower case\n",
        "* isnumeric()\t: Returns True if all characters in the string are numeric\n",
        "* isupper()\t: Returns True if all characters in the string are upper case\n",
        "* lower() :\tConverts a string into lower case\n",
        "* upper()\t: Converts a string into upper case"
      ]
    },
    {
      "cell_type": "markdown",
      "metadata": {
        "id": "URny1DMeQEUF"
      },
      "source": [
        "**Strings are Arrays**\n",
        "\n",
        "Like many other popular programming languages, strings in Python are arrays of bytes representing unicode characters.\n",
        "\n",
        "However, Python does not have a character data type, a single character is simply a string with a length of 1.\n",
        "\n",
        "Square brackets can be used to access elements of the string."
      ]
    },
    {
      "cell_type": "code",
      "execution_count": null,
      "metadata": {
        "colab": {
          "base_uri": "https://localhost:8080/"
        },
        "id": "d32_CS-LQLO9",
        "outputId": "e1cf78ff-87ec-4039-8791-c4726eadbbe3"
      },
      "outputs": [
        {
          "output_type": "stream",
          "name": "stdout",
          "text": [
            "e\n"
          ]
        }
      ],
      "source": [
        "#Get the character at position 1 (remember that the first character has the position 0):\n",
        "\n",
        "a = \"Hello, World!\"\n",
        "print(a[1])"
      ]
    },
    {
      "cell_type": "code",
      "execution_count": null,
      "metadata": {
        "colab": {
          "base_uri": "https://localhost:8080/"
        },
        "id": "J3T1vjztQhRo",
        "outputId": "a300bd84-7066-4101-ab25-fc0d423af6fa"
      },
      "outputs": [
        {
          "output_type": "stream",
          "name": "stdout",
          "text": [
            "7\n",
            "1\n",
            "3\n",
            "ello\n",
            "!dlroW olleH\n",
            "WELCOME\n",
            "welcome\n"
          ]
        }
      ],
      "source": [
        "a = \"Hello World!\"\n",
        "b = 'Welcome'\n",
        "\n",
        "#operations on Strings-*\n",
        "\n",
        "print (len(b))\t        #String Length\n",
        "print (a.index('e'))    #Locate a character in String\n",
        "print (a.count('l'))\t  #Count the number of times a character is repeated in a String\n",
        "print (a[1:5])\t        #Slicing\n",
        "print (a[::-1])\t        #Reverse a String\n",
        "print (b.upper())\t      #Convert the letters in a String to upper-case\n",
        "print (b.lower())       #Convert the letters in a String to lower-case"
      ]
    },
    {
      "cell_type": "markdown",
      "metadata": {
        "id": "KWC2_vcGRCig"
      },
      "source": [
        "**List:**\n",
        "\n",
        "You can consider the Lists as Arrays in C, but in List you can store elements of different types, but in Array all the elements should of the same type.\n",
        "List is the most versatile datatype available in Python which can be written as a list of comma-separated values (items) between square brackets."
      ]
    },
    {
      "cell_type": "markdown",
      "metadata": {
        "id": "CZjaRi7jRHxs"
      },
      "source": [
        "**List Methods**\n",
        "\n",
        "Python has a set of built-in methods that you can use on lists.\n",
        "\n",
        "\n",
        "* append() : Adds an element at the end of the list\n",
        "* clear()\t: Removes all the elements from the list\n",
        "* copy() :\tReturns a copy of the list\n",
        "* count() :\tReturns the number of elements with the specified value\n",
        "* extend(): Add the elements of a list (or any iterable), to the end of the current list\n",
        "* index()\t: Returns the index of the first element with the specified value\n",
        "* insert() :\tAdds an element at the specified position\n",
        "* pop() :\tRemoves the element at the specified position\n",
        "* remove() :\tRemoves the item with the specified value\n",
        "* reverse() :\tReverses the order of the list\n",
        "* sort() :\tSorts the list"
      ]
    },
    {
      "cell_type": "code",
      "execution_count": null,
      "metadata": {
        "colab": {
          "base_uri": "https://localhost:8080/"
        },
        "id": "0XmYBMyGRS62",
        "outputId": "a045e754-a61f-4a61-e6a6-3beeef2c9738"
      },
      "outputs": [
        {
          "output_type": "stream",
          "name": "stdout",
          "text": [
            "['Basketball', 'Cricket', 'Football', 1, 5, 6.0]\n",
            "Basketball\n",
            "['Basketball', 'Cricket', 'Football']\n",
            "Rugby\n",
            "['Basketball', 'Rugby', 1, 5, 6.0]\n",
            "5\n",
            "['Basketball', 'Rugby', 1, 5, 6.0, 'Basketball', 'Rugby', 1, 5, 6.0]\n"
          ]
        }
      ],
      "source": [
        "Sports = ['Basketball', 'Cricket', 'Football', 1,5,6.0]\n",
        "print(Sports)\n",
        "\n",
        "#operations on lists\n",
        "\n",
        "print (Sports[0])       #printing the value at index\n",
        "print (Sports[0:3])     #slicing the values in the List\n",
        "Sports[2]='Rugby'       #replacing the value at particular index\n",
        "print (Sports[2])\n",
        "del Sports[1]           #deleting a value at an index\n",
        "print (Sports)\n",
        "print (len(Sports))     #get the length of the string\n",
        "print (Sports*2)\n",
        "\n"
      ]
    },
    {
      "cell_type": "markdown",
      "metadata": {
        "id": "zee3cqulS5t-"
      },
      "source": [
        "**Tuples:**\n",
        "\n",
        "A Tuple is a sequence of immutable Python objects. Tuples are sequences, just like Lists. The differences between tuples and lists are:\n",
        "\n",
        "\n",
        "\n",
        "*   Tuples cannot be changed unlike lists\n",
        "*   Tuples use parentheses, whereas lists use square brackets."
      ]
    },
    {
      "cell_type": "code",
      "execution_count": null,
      "metadata": {
        "colab": {
          "base_uri": "https://localhost:8080/"
        },
        "id": "QS6W9GjLS9-d",
        "outputId": "d2a45850-965a-4f7a-80a9-9eb0174c595b"
      },
      "outputs": [
        {
          "output_type": "stream",
          "name": "stdout",
          "text": [
            "('Numeric', 'List', 'Tuples')\n"
          ]
        }
      ],
      "source": [
        "Datatypes = ('Numeric', 'List', 'Tuples')\n",
        "print (Datatypes)\n"
      ]
    },
    {
      "cell_type": "markdown",
      "metadata": {
        "id": "a8lTMliwTZYa"
      },
      "source": [
        "**Negative Indexing**\n",
        "\n",
        "Negative indexing means beginning from the end, -1 refers to the last item, -2 refers to the second last item etc."
      ]
    },
    {
      "cell_type": "code",
      "execution_count": null,
      "metadata": {
        "colab": {
          "base_uri": "https://localhost:8080/"
        },
        "id": "IM25puDcTaxu",
        "outputId": "1057d2f8-c33c-4d97-e939-a2847e1b6c24"
      },
      "outputs": [
        {
          "output_type": "stream",
          "name": "stdout",
          "text": [
            "cherry\n"
          ]
        }
      ],
      "source": [
        "thistuple = (\"apple\", \"banana\", \"cherry\")\n",
        "print(thistuple[-1])"
      ]
    },
    {
      "cell_type": "markdown",
      "metadata": {
        "id": "ZSKtUe83TpKF"
      },
      "source": [
        "**Range of Indexes**\n",
        "\n",
        "You can specify a range of indexes by specifying where to start and where to end the range.\n",
        "\n",
        "When specifying a range, the return value will be a new tuple with the specified items."
      ]
    },
    {
      "cell_type": "code",
      "execution_count": null,
      "metadata": {
        "colab": {
          "base_uri": "https://localhost:8080/"
        },
        "id": "SkSnMdsCTwyG",
        "outputId": "db94b98f-5c0b-4e14-d81f-167904a49fe3"
      },
      "outputs": [
        {
          "output_type": "stream",
          "name": "stdout",
          "text": [
            "('cherry', 'orange', 'kiwi')\n"
          ]
        }
      ],
      "source": [
        "thistuple = (\"apple\", \"banana\", \"cherry\", \"orange\", \"kiwi\", \"melon\", \"mango\")\n",
        "print(thistuple[2:5])"
      ]
    },
    {
      "cell_type": "markdown",
      "metadata": {
        "id": "mwhRYU5UUWDL"
      },
      "source": [
        "**Tuple Methods**\n",
        "\n",
        "Python has two built-in methods that you can use on tuples.\n",
        "\n",
        "* count()\t: Returns the number of times a specified value occurs in a tuple\n",
        "* index()\t: Searches the tuple for a specified value and returns the position of where it was found"
      ]
    },
    {
      "cell_type": "markdown",
      "metadata": {
        "id": "NcdqnKdRUt-0"
      },
      "source": [
        "**Set:**\n",
        "\n",
        "A Set is an unordered collection of items. Every element is unique.\n",
        "A Set is created by placing all the items (elements) inside curly braces {}, separated by comma."
      ]
    },
    {
      "cell_type": "code",
      "execution_count": null,
      "metadata": {
        "colab": {
          "base_uri": "https://localhost:8080/"
        },
        "id": "z9PH4XAXUxS_",
        "outputId": "8f10ef6a-b937-41f8-9b56-f8d5d885cfbb"
      },
      "outputs": [
        {
          "output_type": "stream",
          "name": "stdout",
          "text": [
            "{1, 2, 3}\n",
            "{4, 5, 6}\n",
            "{1, 2, 3, 4, 5, 6}\n",
            "{3, 4}\n",
            "{1, 2}\n"
          ]
        }
      ],
      "source": [
        "Set1 = {1, 2, 3}\n",
        "print (Set1)\n",
        "Set2 = {4, 5, 5, 6}\n",
        "print (Set2)\n",
        "\n",
        "#set opreations\n",
        "\n",
        "A = {1, 2, 3, 4}\n",
        "B = {3, 4, 5, 6}\n",
        "print ( A | B)      #union\n",
        "print ( A & B )     #intersection\n",
        "print(A - B)        #difference"
      ]
    },
    {
      "cell_type": "markdown",
      "metadata": {
        "id": "BG33LT1jWVxD"
      },
      "source": [
        "**Dictionary Methods**\n",
        "\n",
        "Python has a set of built-in methods that you can use on dictionaries.\n",
        "\n",
        "* clear() :\tRemoves all the elements from the dictionary\n",
        "* copy()\t: Returns a copy of the dictionary\n",
        "* get()\t: Returns the value of the specified key\n",
        "* items()\t: Returns a list containing a tuple for each key value pair\n",
        "* keys()\t: Returns a list containing the dictionary's keys\n",
        "* pop()\t: Removes the element with the specified key\n",
        "* popitem() :\tRemoves the last inserted key-value pair\n",
        "* update() :\tUpdates the dictionary with the specified key-value pairs\n",
        "* values() :\tReturns a list of all the values in the dictionary"
      ]
    },
    {
      "cell_type": "code",
      "execution_count": null,
      "metadata": {
        "colab": {
          "base_uri": "https://localhost:8080/"
        },
        "id": "XBVUOI6mWbW5",
        "outputId": "6c674691-548f-4570-f771-dc7cb04369f7"
      },
      "outputs": [
        {
          "output_type": "stream",
          "name": "stdout",
          "text": [
            "{'child1': {'name': 'Walter White', 'year': 2004}, 'child2': {'name': 'Jesse Pinkman', 'year': 2007}, 'child3': {'name': 'Harvey Specter', 'year': 2011}}\n"
          ]
        }
      ],
      "source": [
        "family = {\n",
        "  \"child1\" : {\n",
        "    \"name\" : \"Walter White\",\n",
        "    \"year\" : 2004\n",
        "  },\n",
        "  \"child2\" : {\n",
        "    \"name\" : \"Jesse Pinkman\",\n",
        "    \"year\" : 2007\n",
        "  },\n",
        "  \"child3\" : {\n",
        "    \"name\" : \"Harvey Specter\",\n",
        "    \"year\" : 2011\n",
        "  }\n",
        "}\n",
        "print (family)\n",
        "\n"
      ]
    },
    {
      "cell_type": "markdown",
      "metadata": {
        "id": "tvslFLCWZ1bH"
      },
      "source": [
        "Operators in Python:\n",
        "\n",
        "Operators are the constructs which can manipulate the values of the operands. Consider the expression 2 + 3 = 5, here 2 and 3 are operands and + is called operator.\n",
        "\n",
        "*Types of Operators in Python: *\n",
        "\n",
        "Arithmetic\n",
        "\n",
        "Comparision\n",
        "\n",
        "Logical\n",
        "\n",
        "Assignment\n",
        "\n",
        "Bitwise"
      ]
    },
    {
      "cell_type": "markdown",
      "metadata": {
        "id": "RIeUyG_4Z__-"
      },
      "source": [
        "Arithmetic Operation:\n",
        "\n",
        "These Operators are used to perform mathematical operations like addition, subtraction etc.\n",
        "\n"
      ]
    },
    {
      "cell_type": "code",
      "execution_count": null,
      "metadata": {
        "colab": {
          "base_uri": "https://localhost:8080/"
        },
        "id": "cSkXbDXiaCJ2",
        "outputId": "e9e27ebd-ab93-4178-93c9-f29a46667196"
      },
      "outputs": [
        {
          "output_type": "stream",
          "name": "stdout",
          "text": [
            "31\n",
            "-9\n",
            "220\n",
            "0.55\n",
            "9\n",
            "8\n"
          ]
        }
      ],
      "source": [
        "a = 11\n",
        "b = 20\n",
        "c = 0\n",
        "\n",
        "c = a + b\n",
        "print ( c )\n",
        "\n",
        "c = a - b\n",
        "print ( c )\n",
        "\n",
        "c = a * b\n",
        "print ( c )\n",
        "\n",
        "c = a / b\n",
        "print ( c )\n",
        "\n",
        "c = b % a\n",
        "print ( c )\n",
        "\n",
        "a = 2\n",
        "b = 3\n",
        "c = a ** b\n",
        "print ( c )"
      ]
    },
    {
      "cell_type": "markdown",
      "metadata": {
        "id": "UiO2-g1laJrO"
      },
      "source": [
        "Comparision Operation:\n",
        "\n",
        "These Operators compare the values on either sides of them and decide the relation among them."
      ]
    },
    {
      "cell_type": "code",
      "execution_count": null,
      "metadata": {
        "colab": {
          "base_uri": "https://localhost:8080/"
        },
        "id": "_RKwhzvWaNRu",
        "outputId": "e24a4e27-0307-457e-d9a4-ca69417d26cf"
      },
      "outputs": [
        {
          "output_type": "stream",
          "name": "stdout",
          "text": [
            "False\n",
            "True\n",
            "True\n",
            "False\n",
            "True\n"
          ]
        },
        {
          "output_type": "execute_result",
          "data": {
            "text/plain": [
              "bool"
            ]
          },
          "metadata": {},
          "execution_count": 27
        }
      ],
      "source": [
        "a = 11\n",
        "b = 20\n",
        "result = (a == b)\n",
        "\n",
        "print(result)\n",
        "\n",
        "result = (a != b)\n",
        "\n",
        "print(result)\n",
        "\n",
        "result = ( a < b )\n",
        "\n",
        "print(result)\n",
        "\n",
        "result = ( a > b )\n",
        "\n",
        "print(result)\n",
        "\n",
        "result = ( a <= b )\n",
        "\n",
        "print(result)\n",
        "\n",
        "type(result)\n"
      ]
    },
    {
      "cell_type": "code",
      "execution_count": null,
      "metadata": {
        "colab": {
          "base_uri": "https://localhost:8080/"
        },
        "id": "oXcDjDAAsHsh",
        "outputId": "7e6e6c1a-09c4-4474-c269-571d32a61abf"
      },
      "outputs": [
        {
          "output_type": "execute_result",
          "data": {
            "text/plain": [
              "False"
            ]
          },
          "metadata": {},
          "execution_count": 28
        }
      ],
      "source": [
        "result = ( a >= b)\n",
        "result"
      ]
    },
    {
      "cell_type": "markdown",
      "metadata": {
        "id": "tTilkmuJYRLR"
      },
      "source": [
        "# Logical Operators\n",
        "* ( and ) to check if the LHS and RHS conditions both conditions are satisfied. Basically checking for truthy values\n",
        "* ( or  ) to check if atleast one of the side satisfy the condition. Basically checking for truthy values\n",
        "* ( not ) to check if the condition is not satified. Basically checking for falsy values"
      ]
    },
    {
      "cell_type": "code",
      "execution_count": null,
      "metadata": {
        "colab": {
          "base_uri": "https://localhost:8080/"
        },
        "id": "yktGQJDnaVtv",
        "outputId": "4fb5a3b4-64c7-460c-d1bd-6a756d64d6f2"
      },
      "outputs": [
        {
          "output_type": "stream",
          "name": "stdout",
          "text": [
            "x and y is False\n",
            "x or y is True\n",
            "not x is False\n"
          ]
        }
      ],
      "source": [
        "x = True\n",
        "y = False\n",
        "\n",
        "print('x and y is',x and y)\n",
        "\n",
        "print('x or y is',x or y)\n",
        "\n",
        "print('not x is',not x)"
      ]
    },
    {
      "cell_type": "markdown",
      "metadata": {
        "id": "1E1lQlM6YZEn"
      },
      "source": [
        "# **Input Output:**\n",
        "Take input from the user and work with it"
      ]
    },
    {
      "cell_type": "code",
      "execution_count": null,
      "metadata": {
        "colab": {
          "base_uri": "https://localhost:8080/",
          "height": 264
        },
        "id": "XNUhYjMwegiX",
        "outputId": "5ca1c64e-9ae5-410f-b647-165dc8e72ed2"
      },
      "outputs": [
        {
          "name": "stdout",
          "output_type": "stream",
          "text": [
            "Enter your age: 45\n"
          ]
        },
        {
          "output_type": "error",
          "ename": "TypeError",
          "evalue": "ignored",
          "traceback": [
            "\u001b[0;31m---------------------------------------------------------------------------\u001b[0m",
            "\u001b[0;31mTypeError\u001b[0m                                 Traceback (most recent call last)",
            "\u001b[0;32m<ipython-input-32-30980277ca8c>\u001b[0m in \u001b[0;36m<cell line: 3>\u001b[0;34m()\u001b[0m\n\u001b[1;32m      1\u001b[0m \u001b[0mmy_age\u001b[0m \u001b[0;34m=\u001b[0m \u001b[0minput\u001b[0m\u001b[0;34m(\u001b[0m\u001b[0;34m\"Enter your age: \"\u001b[0m\u001b[0;34m)\u001b[0m\u001b[0;34m\u001b[0m\u001b[0;34m\u001b[0m\u001b[0m\n\u001b[1;32m      2\u001b[0m \u001b[0;34m\u001b[0m\u001b[0m\n\u001b[0;32m----> 3\u001b[0;31m \u001b[0madd_age\u001b[0m \u001b[0;34m=\u001b[0m \u001b[0mmy_age\u001b[0m \u001b[0;34m+\u001b[0m \u001b[0;36m2\u001b[0m \u001b[0;31m#It will throw an error\u001b[0m\u001b[0;34m\u001b[0m\u001b[0;34m\u001b[0m\u001b[0m\n\u001b[0m\u001b[1;32m      4\u001b[0m \u001b[0;34m\u001b[0m\u001b[0m\n\u001b[1;32m      5\u001b[0m \u001b[0;31m#lets check why?\u001b[0m\u001b[0;34m\u001b[0m\u001b[0;34m\u001b[0m\u001b[0m\n",
            "\u001b[0;31mTypeError\u001b[0m: can only concatenate str (not \"int\") to str"
          ]
        }
      ],
      "source": [
        "my_age = input(\"Enter your age: \")\n",
        "\n",
        "add_age = my_age + 2 #It will throw an error\n",
        "\n",
        "#lets check why?\n",
        "type(my_age)\n",
        "\n",
        "#Lets fix this;\n",
        "\n"
      ]
    },
    {
      "cell_type": "markdown",
      "metadata": {
        "id": "astaY2wWuCZM"
      },
      "source": [
        "Bitwise Operators"
      ]
    },
    {
      "cell_type": "code",
      "execution_count": null,
      "metadata": {
        "id": "-kFgNadkuB_S"
      },
      "outputs": [],
      "source": [
        "a = 1\n",
        "b = 2\n",
        "\n",
        "#0001\n",
        "#0010\n",
        "\n",
        "# OR Operator |\n",
        "\n",
        "print(a | b)\n",
        "# 0011\n",
        "\n",
        "# and operator &\n",
        "print(a & b)\n",
        "#0000\n",
        "\n",
        "# XOR operator\n",
        "print(a ^ b)"
      ]
    },
    {
      "cell_type": "markdown",
      "metadata": {
        "id": "ycdHU0kBvVxY"
      },
      "source": [
        "Assignment operators"
      ]
    },
    {
      "cell_type": "code",
      "execution_count": null,
      "metadata": {
        "id": "S9NKUi70vYWm"
      },
      "outputs": [],
      "source": [
        "# =\n",
        "c = 1\n",
        "a = 2\n",
        "b = 3\n",
        "#c = a + b\n",
        "#c = c + a + b\n",
        "\n",
        "# c += a\n",
        "# print(c)\n",
        "\n",
        "# -= subtract your value and assign it\n",
        "\n",
        "# c -= a\n",
        "# c - a\n",
        "# c = c - a\n",
        "# print(c)\n",
        "\n",
        "# *= multiplication assignment operator\n",
        "# c *= a\n",
        "# print(c)\n",
        "\n",
        "# /= division assignment operator\n",
        "# c /= a\n",
        "# print(c)\n",
        "\n",
        "# //= floor division assignment operator\n",
        "\n",
        "# a //= c\n",
        "#  c / a\n",
        " # 0.5 floor\n",
        " # 0\n",
        "#  c = 0\n",
        "# print(c)\n",
        "\n",
        "# **= power assignment operator\n",
        "\n",
        "# a **= b\n",
        "# print(a)"
      ]
    },
    {
      "cell_type": "markdown",
      "metadata": {
        "id": "tRGAaBYocSF8"
      },
      "source": [
        "#  Create a basic data collection system using python where:\n",
        "\n",
        "\n",
        "* It takes username, password and age from input.\n",
        "\n",
        "\n"
      ]
    },
    {
      "cell_type": "code",
      "execution_count": null,
      "metadata": {
        "id": "a8jl4juoy-2o"
      },
      "outputs": [],
      "source": [
        "#Sample Output:\n",
        "\n",
        "# enter details for user1\n",
        "# Name: Ali\n",
        "# Password: admin\n",
        "# Age: 23\n",
        "\n",
        "# enter details for user2\n",
        "# Name: Ram\n",
        "# Password: admin\n",
        "# Age: 25\n",
        "\n",
        "# Users: Ali and Ram\n",
        "#Total Age = 48\n",
        "#Avg Age = 24\n",
        "\n"
      ]
    },
    {
      "cell_type": "code",
      "execution_count": null,
      "metadata": {
        "id": "jjuPYlcqzPiz"
      },
      "outputs": [],
      "source": []
    }
  ],
  "metadata": {
    "colab": {
      "provenance": [],
      "include_colab_link": true
    },
    "kernelspec": {
      "display_name": "Python 3 (ipykernel)",
      "language": "python",
      "name": "python3"
    },
    "language_info": {
      "codemirror_mode": {
        "name": "ipython",
        "version": 3
      },
      "file_extension": ".py",
      "mimetype": "text/x-python",
      "name": "python",
      "nbconvert_exporter": "python",
      "pygments_lexer": "ipython3",
      "version": "3.11.3"
    }
  },
  "nbformat": 4,
  "nbformat_minor": 0
}